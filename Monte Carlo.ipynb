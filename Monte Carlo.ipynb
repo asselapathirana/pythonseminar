{
 "cells": [
  {
   "cell_type": "code",
   "execution_count": 1,
   "metadata": {
    "collapsed": true
   },
   "outputs": [],
   "source": [
    "import os\n",
    "import random\n",
    "from swmm5.swmm5tools import SWMM5Simulation"
   ]
  },
  {
   "cell_type": "code",
   "execution_count": 2,
   "metadata": {
    "collapsed": true
   },
   "outputs": [],
   "source": [
    "def write_file(template, v1, v2, outf):\n",
    "    \"\"\" Replaces the string in template with str(v1) and str(v2) \n",
    "    and writes the resulting string to the file name outf\"\"\"\n",
    "    output=template.replace(\"#$1\",str(v1)).replace(\"#$2\",str(v2))\n",
    "    with open (outf, \"w\") as fp:\n",
    "        fp.writelines(output)\n",
    "\n",
    "def get_results(template, v1, v2, outf ):\n",
    "    \"\"\" calls write_file with template, v1 and v2, runs resulting input file\n",
    "    in swmm and returns the maximum flow value of that simulation.\"\"\"    \n",
    "    write_file(template, v1, v2, outf)\n",
    "    st=SWMM5Simulation(outf)\n",
    "    r=max(st.Results('NODE','J7', 4))\n",
    "    return r\n",
    "\n",
    "def get_val(m1, std1, rangevalue):\n",
    "    \"\"\" Returns a value from gaussian distribution with m1, std1, making \n",
    "    sure values are not drawn outside the rangevalue\"\"\"       \n",
    "    while (True):\n",
    "        v=random.gauss(m1,std1)\n",
    "        #print(v)\n",
    "        if(v<rangevalue[0] or v>rangevalue[1]):\n",
    "            return get_val(m1,std1,rangevalue)\n",
    "        return v"
   ]
  },
  {
   "cell_type": "code",
   "execution_count": 3,
   "metadata": {
    "collapsed": true
   },
   "outputs": [],
   "source": [
    "os.chdir(\"E:\\\\Presentations\\\\2016_python\\\\examples\")\n",
    "with open (\"swmm5Example2.inp_\", \"r\") as fp:\n",
    "    template=fp.read()"
   ]
  },
  {
   "cell_type": "code",
   "execution_count": 4,
   "metadata": {
    "collapsed": true
   },
   "outputs": [],
   "source": [
    "m1=0.02\n",
    "std1=.01\n",
    "m2=0.03\n",
    "std2=0.015\n",
    "rangevalue=[0.005,0.05]\n",
    "\n",
    "outf=\"swmm5Example_tmp.inp\"\n",
    "vals1=[]\n",
    "vals2=[]\n",
    "res=[]\n",
    "for i in range(1000):\n",
    "    v1 = get_val(m1, std1, rangevalue)\n",
    "    v2 = get_val(m2,std2, rangevalue)\n",
    "    vals1.append(v1)\n",
    "    vals2.append(v2)\n",
    "    r = get_results(template, v1, v2, outf)\n",
    "    res.append(r)\n"
   ]
  },
  {
   "cell_type": "code",
   "execution_count": 8,
   "metadata": {
    "collapsed": false,
    "scrolled": true
   },
   "outputs": [
    {
     "data": {
      "image/png": "[encoded data removed]",
      "text/plain": [
       "<matplotlib.figure.Figure at 0x942e400>"
      ]
     },
     "metadata": {},
     "output_type": "display_data"
    }
   ],
   "source": [
    "import matplotlib.pyplot as plt\n",
    "%matplotlib inline\n",
    "fig=plt.figure(figsize=(6, 8), dpi=80,)\n",
    "\n",
    "#ax=fig.add_subplot(111)\n",
    "ax1=fig.add_subplot(311)\n",
    "ax1.hist(vals1)\n",
    "ax1.set_xlabel(\"Mannings n for Impervious Areas (-)\")\n",
    "ax2=fig.add_subplot(312)\n",
    "ax2.hist(vals2)\n",
    "ax2.set_xlabel(\"Mannings n for Pervious Areas (-)\")\n",
    "ax2.set_ylabel(\"Number of values (-)\")\n",
    "ax3=fig.add_subplot(313)\n",
    "ax3.hist(res)\n",
    "ax3.set_xlabel(\"Flow out of system (m$^3$/s)\")\n",
    "#ax.set_ylabel(\"frequency (-)\")\n",
    "plt.tight_layout()\n"
   ]
  },
  {
   "cell_type": "code",
   "execution_count": null,
   "metadata": {
    "collapsed": true
   },
   "outputs": [],
   "source": []
  }
 ],
 "metadata": {
  "kernelspec": {
   "display_name": "Python 3",
   "language": "python",
   "name": "python3"
  },
  "language_info": {
   "codemirror_mode": {
    "name": "ipython",
    "version": 3
   },
   "file_extension": ".py",
   "mimetype": "text/x-python",
   "name": "python",
   "nbconvert_exporter": "python",
   "pygments_lexer": "ipython3",
   "version": "3.4.4"
  }
 },
 "nbformat": 4,
 "nbformat_minor": 0
}
